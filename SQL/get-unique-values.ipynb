{
 "cells": [
  {
   "cell_type": "code",
   "execution_count": 1,
   "metadata": {
    "collapsed": true
   },
   "outputs": [],
   "source": [
    "import MySQLdb\n",
    "\n",
    "\n",
    "db = MySQLdb.connect(\n",
    "    \"db.fastcamp.us\",\n",
    "    \"root\",\n",
    "    \"dkstncks\",\n",
    "    \"world\",\n",
    "    charset='utf8',\n",
    ")\n",
    "\n",
    "cursor = db.cursor()"
   ]
  },
  {
   "cell_type": "code",
   "execution_count": 2,
   "metadata": {
    "collapsed": true
   },
   "outputs": [],
   "source": [
    "import pandas as pd"
   ]
  },
  {
   "cell_type": "code",
   "execution_count": 10,
   "metadata": {
    "collapsed": false
   },
   "outputs": [
    {
     "data": {
      "text/plain": [
       "(('Caribbean',),\n",
       " ('Southern and Central Asia',),\n",
       " ('Central Africa',),\n",
       " ('Southern Europe',),\n",
       " ('Middle East',),\n",
       " ('South America',),\n",
       " ('Polynesia',),\n",
       " ('Antarctica',),\n",
       " ('Australia and New Zealand',),\n",
       " ('Western Europe',),\n",
       " ('Eastern Africa',),\n",
       " ('Western Africa',),\n",
       " ('Eastern Europe',),\n",
       " ('Central America',),\n",
       " ('North America',),\n",
       " ('Southeast Asia',),\n",
       " ('Southern Africa',),\n",
       " ('Eastern Asia',),\n",
       " ('Nordic Countries',),\n",
       " ('Northern Africa',),\n",
       " ('Baltic Countries',),\n",
       " ('Melanesia',),\n",
       " ('Micronesia',),\n",
       " ('British Islands',),\n",
       " ('Micronesia/Caribbean',))"
      ]
     },
     "execution_count": 10,
     "metadata": {},
     "output_type": "execute_result"
    }
   ],
   "source": [
    "# SQL Perspective\n",
    "SQL_QUERY = \"\"\"\n",
    "    SELECT DISTINCT(Region)\n",
    "    FROM Country;\n",
    "\"\"\"\n",
    "\n",
    "cursor.execute(SQL_QUERY)\n",
    "cursor.fetchall()"
   ]
  },
  {
   "cell_type": "code",
   "execution_count": 4,
   "metadata": {
    "collapsed": false
   },
   "outputs": [
    {
     "data": {
      "text/html": [
       "<div>\n",
       "<table border=\"1\" class=\"dataframe\">\n",
       "  <thead>\n",
       "    <tr style=\"text-align: right;\">\n",
       "      <th></th>\n",
       "      <th>Region</th>\n",
       "    </tr>\n",
       "  </thead>\n",
       "  <tbody>\n",
       "    <tr>\n",
       "      <th>0</th>\n",
       "      <td>Caribbean</td>\n",
       "    </tr>\n",
       "    <tr>\n",
       "      <th>1</th>\n",
       "      <td>Southern and Central Asia</td>\n",
       "    </tr>\n",
       "    <tr>\n",
       "      <th>2</th>\n",
       "      <td>Central Africa</td>\n",
       "    </tr>\n",
       "    <tr>\n",
       "      <th>3</th>\n",
       "      <td>Southern Europe</td>\n",
       "    </tr>\n",
       "    <tr>\n",
       "      <th>4</th>\n",
       "      <td>Middle East</td>\n",
       "    </tr>\n",
       "    <tr>\n",
       "      <th>5</th>\n",
       "      <td>South America</td>\n",
       "    </tr>\n",
       "    <tr>\n",
       "      <th>6</th>\n",
       "      <td>Polynesia</td>\n",
       "    </tr>\n",
       "    <tr>\n",
       "      <th>7</th>\n",
       "      <td>Antarctica</td>\n",
       "    </tr>\n",
       "    <tr>\n",
       "      <th>8</th>\n",
       "      <td>Australia and New Zealand</td>\n",
       "    </tr>\n",
       "    <tr>\n",
       "      <th>9</th>\n",
       "      <td>Western Europe</td>\n",
       "    </tr>\n",
       "    <tr>\n",
       "      <th>10</th>\n",
       "      <td>Eastern Africa</td>\n",
       "    </tr>\n",
       "    <tr>\n",
       "      <th>11</th>\n",
       "      <td>Western Africa</td>\n",
       "    </tr>\n",
       "    <tr>\n",
       "      <th>12</th>\n",
       "      <td>Eastern Europe</td>\n",
       "    </tr>\n",
       "    <tr>\n",
       "      <th>13</th>\n",
       "      <td>Central America</td>\n",
       "    </tr>\n",
       "    <tr>\n",
       "      <th>14</th>\n",
       "      <td>North America</td>\n",
       "    </tr>\n",
       "    <tr>\n",
       "      <th>15</th>\n",
       "      <td>Southeast Asia</td>\n",
       "    </tr>\n",
       "    <tr>\n",
       "      <th>16</th>\n",
       "      <td>Southern Africa</td>\n",
       "    </tr>\n",
       "    <tr>\n",
       "      <th>17</th>\n",
       "      <td>Eastern Asia</td>\n",
       "    </tr>\n",
       "    <tr>\n",
       "      <th>18</th>\n",
       "      <td>Nordic Countries</td>\n",
       "    </tr>\n",
       "    <tr>\n",
       "      <th>19</th>\n",
       "      <td>Northern Africa</td>\n",
       "    </tr>\n",
       "    <tr>\n",
       "      <th>20</th>\n",
       "      <td>Baltic Countries</td>\n",
       "    </tr>\n",
       "    <tr>\n",
       "      <th>21</th>\n",
       "      <td>Melanesia</td>\n",
       "    </tr>\n",
       "    <tr>\n",
       "      <th>22</th>\n",
       "      <td>Micronesia</td>\n",
       "    </tr>\n",
       "    <tr>\n",
       "      <th>23</th>\n",
       "      <td>British Islands</td>\n",
       "    </tr>\n",
       "    <tr>\n",
       "      <th>24</th>\n",
       "      <td>Micronesia/Caribbean</td>\n",
       "    </tr>\n",
       "  </tbody>\n",
       "</table>\n",
       "</div>"
      ],
      "text/plain": [
       "                       Region\n",
       "0                   Caribbean\n",
       "1   Southern and Central Asia\n",
       "2              Central Africa\n",
       "3             Southern Europe\n",
       "4                 Middle East\n",
       "5               South America\n",
       "6                   Polynesia\n",
       "7                  Antarctica\n",
       "8   Australia and New Zealand\n",
       "9              Western Europe\n",
       "10             Eastern Africa\n",
       "11             Western Africa\n",
       "12             Eastern Europe\n",
       "13            Central America\n",
       "14              North America\n",
       "15             Southeast Asia\n",
       "16            Southern Africa\n",
       "17               Eastern Asia\n",
       "18           Nordic Countries\n",
       "19            Northern Africa\n",
       "20           Baltic Countries\n",
       "21                  Melanesia\n",
       "22                 Micronesia\n",
       "23            British Islands\n",
       "24       Micronesia/Caribbean"
      ]
     },
     "execution_count": 4,
     "metadata": {},
     "output_type": "execute_result"
    }
   ],
   "source": [
    "pd.read_sql(SQL_QUERY, db)"
   ]
  },
  {
   "cell_type": "code",
   "execution_count": 9,
   "metadata": {
    "collapsed": false
   },
   "outputs": [
    {
     "data": {
      "text/plain": [
       "array(['Caribbean', 'Southern and Central Asia', 'Central Africa',\n",
       "       'Southern Europe', 'Middle East', 'South America', 'Polynesia',\n",
       "       'Antarctica', 'Australia and New Zealand', 'Western Europe',\n",
       "       'Eastern Africa', 'Western Africa', 'Eastern Europe',\n",
       "       'Central America', 'North America', 'Southeast Asia',\n",
       "       'Southern Africa', 'Eastern Asia', 'Nordic Countries',\n",
       "       'Northern Africa', 'Baltic Countries', 'Melanesia', 'Micronesia',\n",
       "       'British Islands', 'Micronesia/Caribbean'], dtype=object)"
      ]
     },
     "execution_count": 9,
     "metadata": {},
     "output_type": "execute_result"
    }
   ],
   "source": [
    "# Pandas Perspective\n",
    "df = pd.read_sql(\"SELECT * FROM Country;\", db)\n",
    "df[\"Region\"].unique()"
   ]
  }
 ],
 "metadata": {
  "kernelspec": {
   "display_name": "Python 3",
   "language": "python",
   "name": "python3"
  },
  "language_info": {
   "codemirror_mode": {
    "name": "ipython",
    "version": 3
   },
   "file_extension": ".py",
   "mimetype": "text/x-python",
   "name": "python",
   "nbconvert_exporter": "python",
   "pygments_lexer": "ipython3",
   "version": "3.5.1"
  }
 },
 "nbformat": 4,
 "nbformat_minor": 0
}
