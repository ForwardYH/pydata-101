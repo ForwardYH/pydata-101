{
 "cells": [
  {
   "cell_type": "code",
   "execution_count": 1,
   "metadata": {
    "collapsed": true
   },
   "outputs": [],
   "source": [
    "import numpy as np\n",
    "import pandas as pd\n",
    "\n",
    "import matplotlib\n",
    "import matplotlib.pyplot as plt\n",
    "\n",
    "%matplotlib inline"
   ]
  },
  {
   "cell_type": "code",
   "execution_count": null,
   "metadata": {
    "collapsed": false
   },
   "outputs": [
    {
     "name": "stdout",
     "output_type": "stream",
     "text": [
      "Data1_Profiles.xlsx  Data2_Clickstreams.tab  Data2_Clickstreams.tsv\r\n"
     ]
    }
   ],
   "source": [
    "!ls ../_dataset/clickstream/"
   ]
  },
  {
   "cell_type": "code",
   "execution_count": null,
   "metadata": {
    "collapsed": false
   },
   "outputs": [],
   "source": [
    "df = pd.read_csv(\n",
    "    \"../_dataset/clickstream/Data2_Clickstreams.tab\",\n",
    "    delimiter=\"\\t\",\n",
    "    encoding=\"ms949\",\n",
    ")"
   ]
  },
  {
   "cell_type": "code",
   "execution_count": null,
   "metadata": {
    "collapsed": false
   },
   "outputs": [],
   "source": [
    "df.head()"
   ]
  },
  {
   "cell_type": "code",
   "execution_count": null,
   "metadata": {
    "collapsed": false
   },
   "outputs": [],
   "source": [
    "profile_df = pd.read_excel(\"../_dataset/clickstream/Data1_Profiles.xlsx\")\n",
    "profile_df.head()"
   ]
  },
  {
   "cell_type": "code",
   "execution_count": null,
   "metadata": {
    "collapsed": false
   },
   "outputs": [],
   "source": [
    "merged_df = pd.merge(\n",
    "    df,\n",
    "    profile_df,\n",
    "    on=\"CUS_ID\",\n",
    ")"
   ]
  },
  {
   "cell_type": "code",
   "execution_count": null,
   "metadata": {
    "collapsed": false
   },
   "outputs": [],
   "source": [
    "merged_df.head()"
   ]
  },
  {
   "cell_type": "markdown",
   "metadata": {},
   "source": [
    "## 각 이용자별로 다음의 정보를 구하시오.\n",
    "\n",
    "- DWELLTIME ( 체류시간 ) - ST_TIME 의 총합\n",
    "- PAGEVIEWS ( 페이지뷰 ) - SITE_CNT 의 총합"
   ]
  },
  {
   "cell_type": "code",
   "execution_count": null,
   "metadata": {
    "collapsed": false
   },
   "outputs": [],
   "source": [
    "merged_df.groupby(\"CUS_ID\").agg({\"ST_TIME\": \"sum\", \"SITE_CNT\": \"sum\"})"
   ]
  },
  {
   "cell_type": "code",
   "execution_count": null,
   "metadata": {
    "collapsed": false
   },
   "outputs": [],
   "source": [
    "# 성별에 따른 카테고리 접속 비중\n",
    "\n",
    "merged_df.groupby([\"GENDER\", \"BACT_NM\"]).size().unstack()"
   ]
  },
  {
   "cell_type": "code",
   "execution_count": null,
   "metadata": {
    "collapsed": false
   },
   "outputs": [],
   "source": [
    "# 일단은 하나의 그룹에 대해서 연산을 수행하자\n",
    "\n",
    "male_group = merged_df.groupby(\"GENDER\").get_group(\"남자\")\n",
    "male_group.BACT_NM.value_counts().sort_values(ascending=False)[:3]"
   ]
  },
  {
   "cell_type": "code",
   "execution_count": null,
   "metadata": {
    "collapsed": false
   },
   "outputs": [],
   "source": [
    "# 각 그룹별 방문 횟수가 많은 사이트 카테고리 Top 5개\n",
    "\n",
    "merged_df\\\n",
    "    .groupby(\"GENDER\")\\\n",
    "    .apply(\n",
    "        lambda x: x.BACT_NM.value_counts().sort_values(ascending=False)[:5]\n",
    "    )"
   ]
  },
  {
   "cell_type": "code",
   "execution_count": null,
   "metadata": {
    "collapsed": true
   },
   "outputs": [],
   "source": []
  }
 ],
 "metadata": {
  "kernelspec": {
   "display_name": "Python 3",
   "language": "python",
   "name": "python3"
  },
  "language_info": {
   "codemirror_mode": {
    "name": "ipython",
    "version": 3
   },
   "file_extension": ".py",
   "mimetype": "text/x-python",
   "name": "python",
   "nbconvert_exporter": "python",
   "pygments_lexer": "ipython3",
   "version": "3.5.1"
  }
 },
 "nbformat": 4,
 "nbformat_minor": 2
}
