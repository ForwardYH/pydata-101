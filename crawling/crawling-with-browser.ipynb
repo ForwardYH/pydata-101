{
 "cells": [
  {
   "cell_type": "markdown",
   "metadata": {},
   "source": [
    "# Crawling #3 : Selenium Browser"
   ]
  },
  {
   "cell_type": "code",
   "execution_count": 1,
   "metadata": {
    "collapsed": true
   },
   "outputs": [],
   "source": [
    "# 기존의 정적인 페이지 ( HTML, CSS 에 모든 정보가 로딩 초기에 Rendering 되서 내려오는 페이지 )나\n",
    "# AJAX 기반의 동적인 페이지 중에서 API를 직접 까볼 수 있는 페이지 들은\n",
    "# 기존처럼 requests, beautifulsoup4, json 등을 이용해서 크롤링하실 수 있습니다.\n",
    "\n",
    "# 다만, \n",
    "# AJAX를 이용한 것 같기는 한데, 대체 어디서 정보를 가져오는지 모르겠는 페이지나\n",
    "# 네이버 카페 등과 같이 Frame 을 이용해서 사이트를 렌더링하는 경우에는\n",
    "# 이렇게 Selenium으로 직접 브라우져를 띄우고 크롤링을 하실 수 있습니다."
   ]
  },
  {
   "cell_type": "code",
   "execution_count": 2,
   "metadata": {
    "collapsed": true
   },
   "outputs": [],
   "source": [
    "import pandas as pd\n",
    "\n",
    "from selenium import webdriver"
   ]
  },
  {
   "cell_type": "code",
   "execution_count": 3,
   "metadata": {
    "collapsed": true
   },
   "outputs": [],
   "source": [
    "room_df = pd.DataFrame(columns=[\n",
    "    \"연락처\",\n",
    "])"
   ]
  },
  {
   "cell_type": "code",
   "execution_count": 4,
   "metadata": {
    "collapsed": true
   },
   "outputs": [],
   "source": [
    "driver = webdriver.Firefox()"
   ]
  },
  {
   "cell_type": "code",
   "execution_count": 5,
   "metadata": {
    "collapsed": true
   },
   "outputs": [],
   "source": [
    "driver.get(\"\"\"http://www.dabangapp.com/search#/search?type=subway&id=446&filters={\"deposit-range\":[0,999999],\"price-range\":[0,999999],\"room-type\":[0,1,2,3,4,5],\"location\":[[127.00468076340508,37.50362345510044],[127.03536523453545,37.52894892024945]]}&position={\"center\":[127.02002299897026,37.51628726200644],\"zoom\":15}\"\"\")\n",
    "driver.implicitly_wait(10)"
   ]
  },
  {
   "cell_type": "code",
   "execution_count": 6,
   "metadata": {
    "collapsed": false
   },
   "outputs": [],
   "source": [
    "# 세부 페이지를 크롤링할 새로운 브라우저를 키자.\n",
    "new_driver = webdriver.Firefox()\n",
    "\n",
    "room_elements = driver.find_elements_by_css_selector('ul.items li.item')\n",
    "\n",
    "\n",
    "# 여기서는 샘플로 5개만 데이터를 가져오겠습니다.\n",
    "for room_element in room_elements[:5]:\n",
    "    room_detail_page_url = room_element.find_element_by_css_selector('a').get_attribute('href')\n",
    "\n",
    "    new_driver.get(room_detail_page_url)\n",
    "    new_driver.implicitly_wait(10)\n",
    "\n",
    "    new_driver.find_element_by_css_selector('div.contact-view-button-wrap button').click()\n",
    "    phonenumber = new_driver.find_element_by_css_selector('div.agent-profile-wrap span.number').text\n",
    "\n",
    "    room_df.loc[len(room_df)] = [phonenumber]\n",
    "    \n",
    "\n",
    "# 웹 브라우저는 메모리를 많이 잡아먹으니,\n",
    "# 꼭 종료를 합시다!\n",
    "driver.quit()\n",
    "new_driver.quit()"
   ]
  },
  {
   "cell_type": "code",
   "execution_count": 7,
   "metadata": {
    "collapsed": true
   },
   "outputs": [],
   "source": [
    "room_df.to_csv(\"dabang_room.csv\", index=False)"
   ]
  }
 ],
 "metadata": {
  "kernelspec": {
   "display_name": "Python 3",
   "language": "python",
   "name": "python3"
  },
  "language_info": {
   "codemirror_mode": {
    "name": "ipython",
    "version": 3
   },
   "file_extension": ".py",
   "mimetype": "text/x-python",
   "name": "python",
   "nbconvert_exporter": "python",
   "pygments_lexer": "ipython3",
   "version": "3.5.1"
  }
 },
 "nbformat": 4,
 "nbformat_minor": 0
}
