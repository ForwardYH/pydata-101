{
 "cells": [
  {
   "cell_type": "markdown",
   "metadata": {},
   "source": [
    "# MySQL 데이터베이스 생성하기"
   ]
  },
  {
   "cell_type": "code",
   "execution_count": 1,
   "metadata": {
    "collapsed": true
   },
   "outputs": [],
   "source": [
    "import os\n",
    "\n",
    "import MySQLdb"
   ]
  },
  {
   "cell_type": "code",
   "execution_count": 2,
   "metadata": {
    "collapsed": true
   },
   "outputs": [],
   "source": [
    "DATABASE_HOST = \"localhost\"  # \"localhost\" == \"127.0.0.1\"\n",
    "\n",
    "DATABASE_USERNAME = os.environ.get(\"DATABASE_USERNAME\", \"YOUR_USERNAME\")\n",
    "DATABASE_PASSWORD = os.environ.get(\"DATABASE_PASSWORD\", \"YOUR_PASSWORD\")\n",
    "\n",
    "# 기존의 예제와는 다르게 DB가 현재 생성된 상태가 아닙니다.\n",
    "NEW_DATABASE_NAME = \"fastcampus_data_science_db\""
   ]
  },
  {
   "cell_type": "code",
   "execution_count": 3,
   "metadata": {
    "collapsed": false
   },
   "outputs": [],
   "source": [
    "connection = MySQLdb.connect(\n",
    "    DATABASE_HOST,\n",
    "    DATABASE_USERNAME,\n",
    "    DATABASE_PASSWORD,\n",
    "    # DATABASE_NAME,\n",
    "    charset='utf8',\n",
    ")"
   ]
  },
  {
   "cell_type": "code",
   "execution_count": 4,
   "metadata": {
    "collapsed": false
   },
   "outputs": [
    {
     "data": {
      "text/plain": [
       "<_mysql.connection open to 'localhost' at 7fcb918e4818>"
      ]
     },
     "execution_count": 4,
     "metadata": {},
     "output_type": "execute_result"
    }
   ],
   "source": [
    "connection"
   ]
  },
  {
   "cell_type": "code",
   "execution_count": 5,
   "metadata": {
    "collapsed": true
   },
   "outputs": [],
   "source": [
    "cursor = connection.cursor()"
   ]
  },
  {
   "cell_type": "code",
   "execution_count": 6,
   "metadata": {
    "collapsed": false
   },
   "outputs": [
    {
     "data": {
      "text/plain": [
       "1"
      ]
     },
     "execution_count": 6,
     "metadata": {},
     "output_type": "execute_result"
    }
   ],
   "source": [
    "SQL_QUERY = \"CREATE DATABASE IF NOT EXISTS {new_database_name}\".format(\n",
    "    new_database_name=NEW_DATABASE_NAME,\n",
    ")\n",
    "\n",
    "cursor.execute(SQL_QUERY)"
   ]
  },
  {
   "cell_type": "code",
   "execution_count": 7,
   "metadata": {
    "collapsed": false
   },
   "outputs": [
    {
     "data": {
      "text/plain": [
       "(('information_schema',),\n",
       " ('fastcampus_data_science_db',),\n",
       " ('fastcourses',),\n",
       " ('fastlink',),\n",
       " ('mysql',),\n",
       " ('performance_schema',),\n",
       " ('sakila',),\n",
       " ('sys',))"
      ]
     },
     "execution_count": 7,
     "metadata": {},
     "output_type": "execute_result"
    }
   ],
   "source": [
    "SQL_QUERY = \"\"\"\n",
    "    SHOW DATABASES;\n",
    "\"\"\"\n",
    "\n",
    "cursor.execute(SQL_QUERY)\n",
    "cursor.fetchall()"
   ]
  }
 ],
 "metadata": {
  "kernelspec": {
   "display_name": "Python 3",
   "language": "python",
   "name": "python3"
  },
  "language_info": {
   "codemirror_mode": {
    "name": "ipython",
    "version": 3
   },
   "file_extension": ".py",
   "mimetype": "text/x-python",
   "name": "python",
   "nbconvert_exporter": "python",
   "pygments_lexer": "ipython3",
   "version": "3.5.1"
  }
 },
 "nbformat": 4,
 "nbformat_minor": 0
}
