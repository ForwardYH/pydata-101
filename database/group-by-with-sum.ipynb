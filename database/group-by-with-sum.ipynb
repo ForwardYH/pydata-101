{
 "cells": [
  {
   "cell_type": "code",
   "execution_count": 1,
   "metadata": {
    "collapsed": true
   },
   "outputs": [],
   "source": [
    "# GROUP BY with SUM\n",
    "# 월별 매출"
   ]
  },
  {
   "cell_type": "code",
   "execution_count": 2,
   "metadata": {
    "collapsed": true
   },
   "outputs": [],
   "source": [
    "import numpy as np\n",
    "import pandas as pd\n",
    "\n",
    "import MySQLdb\n",
    "\n",
    "\n",
    "db = MySQLdb.connect(\n",
    "    \"db.fastcamp.us\",  # DATABASE_HOST\n",
    "    \"root\",  # DATABASE_USERNAME\n",
    "    \"dkstncks\",  # DATABASE_PASSWORD\n",
    "    \"sakila\",  # DATABASE_NAME\n",
    "    charset='utf8',\n",
    ")\n",
    "\n",
    "cursor = db.cursor()"
   ]
  },
  {
   "cell_type": "code",
   "execution_count": 3,
   "metadata": {
    "collapsed": false
   },
   "outputs": [
    {
     "data": {
      "text/html": [
       "<div>\n",
       "<table border=\"1\" class=\"dataframe\">\n",
       "  <thead>\n",
       "    <tr style=\"text-align: right;\">\n",
       "      <th></th>\n",
       "      <th>Month</th>\n",
       "      <th>Monthly Revenue</th>\n",
       "    </tr>\n",
       "  </thead>\n",
       "  <tbody>\n",
       "    <tr>\n",
       "      <th>0</th>\n",
       "      <td>2005-05</td>\n",
       "      <td>4824.43</td>\n",
       "    </tr>\n",
       "    <tr>\n",
       "      <th>1</th>\n",
       "      <td>2005-06</td>\n",
       "      <td>9631.88</td>\n",
       "    </tr>\n",
       "    <tr>\n",
       "      <th>2</th>\n",
       "      <td>2005-07</td>\n",
       "      <td>28373.89</td>\n",
       "    </tr>\n",
       "    <tr>\n",
       "      <th>3</th>\n",
       "      <td>2005-08</td>\n",
       "      <td>24072.13</td>\n",
       "    </tr>\n",
       "    <tr>\n",
       "      <th>4</th>\n",
       "      <td>2006-02</td>\n",
       "      <td>514.18</td>\n",
       "    </tr>\n",
       "  </tbody>\n",
       "</table>\n",
       "</div>"
      ],
      "text/plain": [
       "     Month  Monthly Revenue\n",
       "0  2005-05          4824.43\n",
       "1  2005-06          9631.88\n",
       "2  2005-07         28373.89\n",
       "3  2005-08         24072.13\n",
       "4  2006-02           514.18"
      ]
     },
     "execution_count": 3,
     "metadata": {},
     "output_type": "execute_result"
    }
   ],
   "source": [
    "SQL_QUERY = \"\"\"\n",
    "    SELECT\n",
    "        LEFT(payment.payment_date, 7) AS \"Month\",\n",
    "        SUM(payment.amount) AS \"Monthly Revenue\"\n",
    "    FROM \n",
    "        payment\n",
    "    GROUP BY\n",
    "        1\n",
    "\"\"\"\n",
    "\n",
    "pd.read_sql(SQL_QUERY, db)"
   ]
  },
  {
   "cell_type": "code",
   "execution_count": 4,
   "metadata": {
    "collapsed": false
   },
   "outputs": [
    {
     "data": {
      "text/html": [
       "<div>\n",
       "<table border=\"1\" class=\"dataframe\">\n",
       "  <thead>\n",
       "    <tr style=\"text-align: right;\">\n",
       "      <th></th>\n",
       "      <th>payment_id</th>\n",
       "      <th>customer_id</th>\n",
       "      <th>staff_id</th>\n",
       "      <th>rental_id</th>\n",
       "      <th>amount</th>\n",
       "      <th>payment_date</th>\n",
       "      <th>last_update</th>\n",
       "    </tr>\n",
       "  </thead>\n",
       "  <tbody>\n",
       "    <tr>\n",
       "      <th>0</th>\n",
       "      <td>1</td>\n",
       "      <td>1</td>\n",
       "      <td>1</td>\n",
       "      <td>76</td>\n",
       "      <td>2.99</td>\n",
       "      <td>2005-05-25 11:30:37</td>\n",
       "      <td>2006-02-15 22:12:30</td>\n",
       "    </tr>\n",
       "    <tr>\n",
       "      <th>1</th>\n",
       "      <td>2</td>\n",
       "      <td>1</td>\n",
       "      <td>1</td>\n",
       "      <td>573</td>\n",
       "      <td>0.99</td>\n",
       "      <td>2005-05-28 10:35:23</td>\n",
       "      <td>2006-02-15 22:12:30</td>\n",
       "    </tr>\n",
       "    <tr>\n",
       "      <th>2</th>\n",
       "      <td>3</td>\n",
       "      <td>1</td>\n",
       "      <td>1</td>\n",
       "      <td>1185</td>\n",
       "      <td>5.99</td>\n",
       "      <td>2005-06-15 00:54:12</td>\n",
       "      <td>2006-02-15 22:12:30</td>\n",
       "    </tr>\n",
       "    <tr>\n",
       "      <th>3</th>\n",
       "      <td>4</td>\n",
       "      <td>1</td>\n",
       "      <td>2</td>\n",
       "      <td>1422</td>\n",
       "      <td>0.99</td>\n",
       "      <td>2005-06-15 18:02:53</td>\n",
       "      <td>2006-02-15 22:12:30</td>\n",
       "    </tr>\n",
       "    <tr>\n",
       "      <th>4</th>\n",
       "      <td>5</td>\n",
       "      <td>1</td>\n",
       "      <td>2</td>\n",
       "      <td>1476</td>\n",
       "      <td>9.99</td>\n",
       "      <td>2005-06-15 21:08:46</td>\n",
       "      <td>2006-02-15 22:12:30</td>\n",
       "    </tr>\n",
       "  </tbody>\n",
       "</table>\n",
       "</div>"
      ],
      "text/plain": [
       "   payment_id  customer_id  staff_id  rental_id  amount        payment_date  \\\n",
       "0           1            1         1         76    2.99 2005-05-25 11:30:37   \n",
       "1           2            1         1        573    0.99 2005-05-28 10:35:23   \n",
       "2           3            1         1       1185    5.99 2005-06-15 00:54:12   \n",
       "3           4            1         2       1422    0.99 2005-06-15 18:02:53   \n",
       "4           5            1         2       1476    9.99 2005-06-15 21:08:46   \n",
       "\n",
       "          last_update  \n",
       "0 2006-02-15 22:12:30  \n",
       "1 2006-02-15 22:12:30  \n",
       "2 2006-02-15 22:12:30  \n",
       "3 2006-02-15 22:12:30  \n",
       "4 2006-02-15 22:12:30  "
      ]
     },
     "execution_count": 4,
     "metadata": {},
     "output_type": "execute_result"
    }
   ],
   "source": [
    "SQL_QUERY = \"\"\"\n",
    "    SELECT * FROM payment;\n",
    "\"\"\"\n",
    "\n",
    "payment_df = pd.read_sql(SQL_QUERY, db)\n",
    "payment_df.head()"
   ]
  },
  {
   "cell_type": "code",
   "execution_count": 5,
   "metadata": {
    "collapsed": true
   },
   "outputs": [],
   "source": [
    "payment_df[\"Month\"] = payment_df[\"payment_date\"].apply(lambda x: str(x)[:7])"
   ]
  },
  {
   "cell_type": "code",
   "execution_count": 6,
   "metadata": {
    "collapsed": false
   },
   "outputs": [
    {
     "data": {
      "text/html": [
       "<div>\n",
       "<table border=\"1\" class=\"dataframe\">\n",
       "  <thead>\n",
       "    <tr style=\"text-align: right;\">\n",
       "      <th></th>\n",
       "      <th>payment_id</th>\n",
       "      <th>customer_id</th>\n",
       "      <th>staff_id</th>\n",
       "      <th>rental_id</th>\n",
       "      <th>amount</th>\n",
       "      <th>payment_date</th>\n",
       "      <th>last_update</th>\n",
       "      <th>Month</th>\n",
       "    </tr>\n",
       "  </thead>\n",
       "  <tbody>\n",
       "    <tr>\n",
       "      <th>0</th>\n",
       "      <td>1</td>\n",
       "      <td>1</td>\n",
       "      <td>1</td>\n",
       "      <td>76</td>\n",
       "      <td>2.99</td>\n",
       "      <td>2005-05-25 11:30:37</td>\n",
       "      <td>2006-02-15 22:12:30</td>\n",
       "      <td>2005-05</td>\n",
       "    </tr>\n",
       "    <tr>\n",
       "      <th>1</th>\n",
       "      <td>2</td>\n",
       "      <td>1</td>\n",
       "      <td>1</td>\n",
       "      <td>573</td>\n",
       "      <td>0.99</td>\n",
       "      <td>2005-05-28 10:35:23</td>\n",
       "      <td>2006-02-15 22:12:30</td>\n",
       "      <td>2005-05</td>\n",
       "    </tr>\n",
       "    <tr>\n",
       "      <th>2</th>\n",
       "      <td>3</td>\n",
       "      <td>1</td>\n",
       "      <td>1</td>\n",
       "      <td>1185</td>\n",
       "      <td>5.99</td>\n",
       "      <td>2005-06-15 00:54:12</td>\n",
       "      <td>2006-02-15 22:12:30</td>\n",
       "      <td>2005-06</td>\n",
       "    </tr>\n",
       "    <tr>\n",
       "      <th>3</th>\n",
       "      <td>4</td>\n",
       "      <td>1</td>\n",
       "      <td>2</td>\n",
       "      <td>1422</td>\n",
       "      <td>0.99</td>\n",
       "      <td>2005-06-15 18:02:53</td>\n",
       "      <td>2006-02-15 22:12:30</td>\n",
       "      <td>2005-06</td>\n",
       "    </tr>\n",
       "    <tr>\n",
       "      <th>4</th>\n",
       "      <td>5</td>\n",
       "      <td>1</td>\n",
       "      <td>2</td>\n",
       "      <td>1476</td>\n",
       "      <td>9.99</td>\n",
       "      <td>2005-06-15 21:08:46</td>\n",
       "      <td>2006-02-15 22:12:30</td>\n",
       "      <td>2005-06</td>\n",
       "    </tr>\n",
       "  </tbody>\n",
       "</table>\n",
       "</div>"
      ],
      "text/plain": [
       "   payment_id  customer_id  staff_id  rental_id  amount        payment_date  \\\n",
       "0           1            1         1         76    2.99 2005-05-25 11:30:37   \n",
       "1           2            1         1        573    0.99 2005-05-28 10:35:23   \n",
       "2           3            1         1       1185    5.99 2005-06-15 00:54:12   \n",
       "3           4            1         2       1422    0.99 2005-06-15 18:02:53   \n",
       "4           5            1         2       1476    9.99 2005-06-15 21:08:46   \n",
       "\n",
       "          last_update    Month  \n",
       "0 2006-02-15 22:12:30  2005-05  \n",
       "1 2006-02-15 22:12:30  2005-05  \n",
       "2 2006-02-15 22:12:30  2005-06  \n",
       "3 2006-02-15 22:12:30  2005-06  \n",
       "4 2006-02-15 22:12:30  2005-06  "
      ]
     },
     "execution_count": 6,
     "metadata": {},
     "output_type": "execute_result"
    }
   ],
   "source": [
    "payment_df.head()"
   ]
  },
  {
   "cell_type": "code",
   "execution_count": 7,
   "metadata": {
    "collapsed": false
   },
   "outputs": [
    {
     "data": {
      "text/html": [
       "<div>\n",
       "<table border=\"1\" class=\"dataframe\">\n",
       "  <thead>\n",
       "    <tr>\n",
       "      <th></th>\n",
       "      <th>payment_id</th>\n",
       "      <th colspan=\"2\" halign=\"left\">amount</th>\n",
       "    </tr>\n",
       "    <tr>\n",
       "      <th></th>\n",
       "      <th>size</th>\n",
       "      <th>sum</th>\n",
       "      <th>mean</th>\n",
       "    </tr>\n",
       "    <tr>\n",
       "      <th>Month</th>\n",
       "      <th></th>\n",
       "      <th></th>\n",
       "      <th></th>\n",
       "    </tr>\n",
       "  </thead>\n",
       "  <tbody>\n",
       "    <tr>\n",
       "      <th>2005-05</th>\n",
       "      <td>1157</td>\n",
       "      <td>4824.43</td>\n",
       "      <td>4.169775</td>\n",
       "    </tr>\n",
       "    <tr>\n",
       "      <th>2005-06</th>\n",
       "      <td>2312</td>\n",
       "      <td>9631.88</td>\n",
       "      <td>4.166038</td>\n",
       "    </tr>\n",
       "    <tr>\n",
       "      <th>2005-07</th>\n",
       "      <td>6711</td>\n",
       "      <td>28373.89</td>\n",
       "      <td>4.227968</td>\n",
       "    </tr>\n",
       "    <tr>\n",
       "      <th>2005-08</th>\n",
       "      <td>5687</td>\n",
       "      <td>24072.13</td>\n",
       "      <td>4.232835</td>\n",
       "    </tr>\n",
       "    <tr>\n",
       "      <th>2006-02</th>\n",
       "      <td>182</td>\n",
       "      <td>514.18</td>\n",
       "      <td>2.825165</td>\n",
       "    </tr>\n",
       "  </tbody>\n",
       "</table>\n",
       "</div>"
      ],
      "text/plain": [
       "        payment_id    amount          \n",
       "              size       sum      mean\n",
       "Month                                 \n",
       "2005-05       1157   4824.43  4.169775\n",
       "2005-06       2312   9631.88  4.166038\n",
       "2005-07       6711  28373.89  4.227968\n",
       "2005-08       5687  24072.13  4.232835\n",
       "2006-02        182    514.18  2.825165"
      ]
     },
     "execution_count": 7,
     "metadata": {},
     "output_type": "execute_result"
    }
   ],
   "source": [
    "payment_df.groupby(\"Month\").agg({\"payment_id\": np.size, \"amount\": [np.sum, np.mean]})"
   ]
  }
 ],
 "metadata": {
  "kernelspec": {
   "display_name": "Python 3",
   "language": "python",
   "name": "python3"
  },
  "language_info": {
   "codemirror_mode": {
    "name": "ipython",
    "version": 3
   },
   "file_extension": ".py",
   "mimetype": "text/x-python",
   "name": "python",
   "nbconvert_exporter": "python",
   "pygments_lexer": "ipython3",
   "version": "3.5.1"
  }
 },
 "nbformat": 4,
 "nbformat_minor": 0
}
