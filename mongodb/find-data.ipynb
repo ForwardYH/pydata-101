{
 "cells": [
  {
   "cell_type": "code",
   "execution_count": 1,
   "metadata": {
    "collapsed": true
   },
   "outputs": [],
   "source": [
    "from pymongo import MongoClient\n",
    "\n",
    "\n",
    "client = MongoClient(\n",
    "    \"mongodb.fastcamp.us\",\n",
    ")"
   ]
  },
  {
   "cell_type": "code",
   "execution_count": 2,
   "metadata": {
    "collapsed": false
   },
   "outputs": [],
   "source": [
    "db = client[\"dobestan\"]"
   ]
  },
  {
   "cell_type": "code",
   "execution_count": 3,
   "metadata": {
    "collapsed": true
   },
   "outputs": [],
   "source": [
    "collection = db[\"zigbang\"]"
   ]
  },
  {
   "cell_type": "code",
   "execution_count": 4,
   "metadata": {
    "collapsed": false
   },
   "outputs": [],
   "source": [
    "assert collection.count() > 0"
   ]
  },
  {
   "cell_type": "code",
   "execution_count": 5,
   "metadata": {
    "collapsed": false
   },
   "outputs": [
    {
     "name": "stdout",
     "output_type": "stream",
     "text": [
      "(1000, 55)\n",
      "(1000, 50)\n",
      "(1000, 55)\n",
      "(1000, 58)\n",
      "(1000, 50)\n",
      "(1000, 50)\n",
      "(1000, 65)\n",
      "(1000, 55)\n",
      "(1000, 40)\n",
      "(1000, 45)\n",
      "(1000, 40)\n",
      "(1000, 38)\n"
     ]
    }
   ],
   "source": [
    "# 보증금이 1000만원인 매물 리스트 가져오기\n",
    "collection.find({\"item.deposit\": 1000}).count()\n",
    "\n",
    "for data in collection.find({\"item.deposit\": 1000}):\n",
    "    print((data.get('item').get('deposit'), data.get('item').get('rent')))"
   ]
  },
  {
   "cell_type": "code",
   "execution_count": 6,
   "metadata": {
    "collapsed": false
   },
   "outputs": [
    {
     "name": "stdout",
     "output_type": "stream",
     "text": [
      "(1000, 55)\n",
      "(1000, 50)\n",
      "(1000, 55)\n",
      "(5000, 50)\n",
      "(10000, 40)\n",
      "(26500, 0)\n",
      "(2000, 60)\n",
      "(2000, 60)\n",
      "(29900, 0)\n",
      "(27000, 0)\n",
      "(1000, 58)\n",
      "(3000, 80)\n",
      "(28000, 0)\n",
      "(1000, 50)\n",
      "(17000, 0)\n",
      "(1000, 50)\n",
      "(1000, 65)\n",
      "(27000, 0)\n",
      "(2000, 60)\n",
      "(1500, 35)\n",
      "(1000, 55)\n",
      "(1000, 40)\n",
      "(1000, 45)\n",
      "(1000, 40)\n",
      "(1000, 38)\n"
     ]
    }
   ],
   "source": [
    "# 보증금이 1000만원 이상인 매물 리스트 가져오기\n",
    "\n",
    "collection.find({\"item.deposit\": {'$gte': 1000}}).count()\n",
    "\n",
    "for data in collection.find({\"item.deposit\": {'$gte': 1000}}):\n",
    "    print((data.get('item').get('deposit'), data.get('item').get('rent')))"
   ]
  },
  {
   "cell_type": "code",
   "execution_count": 7,
   "metadata": {
    "collapsed": false
   },
   "outputs": [
    {
     "name": "stdout",
     "output_type": "stream",
     "text": [
      "(1000, 50)\n",
      "(5000, 50)\n",
      "(10000, 40)\n",
      "(26500, 0)\n",
      "(29900, 0)\n",
      "(27000, 0)\n",
      "(28000, 0)\n",
      "(1000, 50)\n",
      "(17000, 0)\n",
      "(1000, 50)\n",
      "(27000, 0)\n",
      "(1500, 35)\n",
      "(1000, 40)\n",
      "(1000, 45)\n",
      "(1000, 40)\n",
      "(1000, 38)\n"
     ]
    }
   ],
   "source": [
    "# 보증금이 1000만원 이상이면서,\n",
    "# 월세가 50만원 이하인 매물 가져오기\n",
    "\n",
    "items = collection.find({\n",
    "    \"item.deposit\": {\n",
    "        '$gte': 1000,\n",
    "    },\n",
    "    \"item.rent\": {\n",
    "        '$lte': 50,\n",
    "    }\n",
    "})\n",
    "\n",
    "for item in items:\n",
    "    print((item.get('item').get('deposit'), item.get('item').get('rent')))"
   ]
  },
  {
   "cell_type": "code",
   "execution_count": 8,
   "metadata": {
    "collapsed": false
   },
   "outputs": [
    {
     "name": "stdout",
     "output_type": "stream",
     "text": [
      "서울시 강동구 길동\n",
      "서울시 강동구 천호동\n",
      "서울시 강동구 길동\n",
      "서울시 강동구 천호동\n",
      "서울시 강동구 천호동\n",
      "서울시 강동구 천호1동\n",
      "서울시 강동구 천호동\n",
      "서울시 강동구 천호동\n",
      "서울시 강동구 천호동\n",
      "서울시 강동구 천호동\n",
      "서울시 강동구 천호동\n",
      "서울시 강동구 천호동\n",
      "서울시 강동구 길동\n",
      "서울시 강동구 천호동\n",
      "서울시 강동구 천호동\n",
      "서울시 강동구 천호동\n",
      "서울시 강동구 천호동\n",
      "서울시 강동구 천호동\n",
      "서울시 강동구 길동\n",
      "서울시 강동구 천호1동\n",
      "서울시 강동구 길동\n",
      "서울시 강동구 천호동\n",
      "서울시 강동구 천호동\n",
      "서울시 강동구 천호동\n",
      "서울시 강동구 천호동\n",
      "서울시 강동구 천호동\n",
      "서울시 강동구 천호동\n",
      "서울특별시 강동구 천호동\n",
      "서울시 강동구 길동\n",
      "서울시 강동구 천호동\n",
      "서울시 강동구 천호동\n",
      "서울시 강동구 천호2동\n",
      "서울시 강동구 길동\n",
      "서울시 강동구 길동\n",
      "서울시 강동구 천호동\n"
     ]
    }
   ],
   "source": [
    "for item in collection.find({\n",
    "    \"item.address1\": {\n",
    "            '$regex': \"강동구\", \n",
    "    }        \n",
    "}):\n",
    "    print(item.get('item').get('address1'))"
   ]
  }
 ],
 "metadata": {
  "kernelspec": {
   "display_name": "Python 3",
   "language": "python",
   "name": "python3"
  },
  "language_info": {
   "codemirror_mode": {
    "name": "ipython",
    "version": 3
   },
   "file_extension": ".py",
   "mimetype": "text/x-python",
   "name": "python",
   "nbconvert_exporter": "python",
   "pygments_lexer": "ipython3",
   "version": "3.5.1"
  }
 },
 "nbformat": 4,
 "nbformat_minor": 0
}
