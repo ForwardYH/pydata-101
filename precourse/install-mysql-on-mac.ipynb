{
 "cells": [
  {
   "cell_type": "markdown",
   "metadata": {},
   "source": [
    "# MAC OSX 에서 MySQL 데이터베이스 설치하기"
   ]
  },
  {
   "cell_type": "markdown",
   "metadata": {},
   "source": [
    "## 1. Install brew.sh\n",
    "\n",
    "`homebrew` ( 이하 `brew` ) 는 맥용 Package Manager ( 패키지 매니저 ) 입니다.\n",
    "( 다음의 사이트에서 자세한 정보를 확인하실 수 있습니다: http://brew.sh/ )\n",
    "\n",
    "터미널 ( `Terminal.app` ) 을 켜시고 다음의 명령어를 복사, 붙여넣기 하시면 설치하실 수 있습니다:\n",
    "```\n",
    "$ /usr/bin/ruby -e \"$(curl -fsSL https://raw.githubusercontent.com/Homebrew/install/master/install)\"\n",
    "```\n",
    "\n",
    "\n",
    "이렇게 설치한 `brew` 를 통해서, `MySQL` 뿐만이 아니라, 맥에서 사용하는 다양한 패키지들을 설치하고 이용하실 수 있습니다."
   ]
  },
  {
   "cell_type": "markdown",
   "metadata": {},
   "source": [
    "## 2. Install MySQL\n",
    "\n",
    "```\n",
    "$ brew install mysql\n",
    "```\n",
    "\n",
    "\n",
    "```\n",
    "$ mysql.server start\n",
    "$ mysql.server stop\n",
    "$ mysqld_safe --skip-grant-tables\n",
    "```\n",
    "\n",
    "다음의 명령어로 접속이 되는지 살펴봐주세요:\n",
    "\n",
    "```\n",
    "$ mysql -u root\n",
    "```"
   ]
  },
  {
   "cell_type": "markdown",
   "metadata": {},
   "source": [
    "## 3. Install Sequel Pro\n",
    "\n",
    "다음의 링크에서 설치하실 수 있습니다: http://www.sequelpro.com/download"
   ]
  }
 ],
 "metadata": {
  "kernelspec": {
   "display_name": "Python 3",
   "language": "python",
   "name": "python3"
  },
  "language_info": {
   "codemirror_mode": {
    "name": "ipython",
    "version": 3
   },
   "file_extension": ".py",
   "mimetype": "text/x-python",
   "name": "python",
   "nbconvert_exporter": "python",
   "pygments_lexer": "ipython3",
   "version": "3.5.1"
  }
 },
 "nbformat": 4,
 "nbformat_minor": 0
}
