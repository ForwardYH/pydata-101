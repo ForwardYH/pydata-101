{
 "cells": [
  {
   "cell_type": "markdown",
   "metadata": {},
   "source": [
    "# Window PC 에서 MySQL 데이터베이스 설치하기"
   ]
  },
  {
   "cell_type": "markdown",
   "metadata": {},
   "source": [
    "## 1. Install MySQL Server\n",
    "\n",
    "- http://dev.mysql.com/downloads/installer\n",
    "- http://downloads.mysql.com/archives/installer/ ( 이전 버전도 설치 가능합니다; `5.7.10` 버전이 오류가 나시는 분들은 `5.6.X` 버전을 설치해주시면 됩니다. )\n",
    "\n",
    "\n",
    "중간에 설치 방법에 대하서 물어보는 부분이 나올텐데 여기에서는 `MySQL Server Only` 로 선택해주시면 됩니다."
   ]
  },
  {
   "cell_type": "markdown",
   "metadata": {},
   "source": [
    "## 2. Install HeidiSQL\n",
    "\n",
    "- http://www.heidisql.com/"
   ]
  }
 ],
 "metadata": {
  "kernelspec": {
   "display_name": "Python 3",
   "language": "python",
   "name": "python3"
  },
  "language_info": {
   "codemirror_mode": {
    "name": "ipython",
    "version": 3
   },
   "file_extension": ".py",
   "mimetype": "text/x-python",
   "name": "python",
   "nbconvert_exporter": "python",
   "pygments_lexer": "ipython3",
   "version": "3.5.1"
  }
 },
 "nbformat": 4,
 "nbformat_minor": 0
}
