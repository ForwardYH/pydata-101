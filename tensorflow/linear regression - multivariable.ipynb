{
 "cells": [
  {
   "cell_type": "code",
   "execution_count": 1,
   "metadata": {
    "collapsed": true
   },
   "outputs": [],
   "source": [
    "import tensorflow as tf\n",
    "import numpy as np\n",
    "import matplotlib.pyplot as plt\n",
    "\n",
    "%matplotlib inline\n",
    "\n",
    "np.set_printoptions(precision=2)"
   ]
  },
  {
   "cell_type": "code",
   "execution_count": 2,
   "metadata": {
    "collapsed": false
   },
   "outputs": [],
   "source": [
    "data = np.loadtxt('data.dat', unpack=True, dtype='float32')\n",
    "\n",
    "x = data[:-1]\n",
    "y = data[-1]"
   ]
  },
  {
   "cell_type": "code",
   "execution_count": 3,
   "metadata": {
    "collapsed": false
   },
   "outputs": [],
   "source": [
    "W = tf.Variable(tf.random_uniform([1, len(x)], -1, 1))\n",
    "b = tf.Variable(tf.random_uniform([1], -1, 1))"
   ]
  },
  {
   "cell_type": "code",
   "execution_count": 4,
   "metadata": {
    "collapsed": false
   },
   "outputs": [],
   "source": [
    "hypothesis = tf.matmul(W, x)\n",
    "\n",
    "cost = tf.reduce_mean(tf.square(hypothesis - y))\n",
    "\n",
    "a = tf.Variable(0.1)  # learning rate, alpha\n",
    "optimizer = tf.train.GradientDescentOptimizer(a)\n",
    "train = optimizer.minimize(cost)  # goal is minimize cost"
   ]
  },
  {
   "cell_type": "code",
   "execution_count": 5,
   "metadata": {
    "collapsed": false
   },
   "outputs": [
    {
     "name": "stdout",
     "output_type": "stream",
     "text": [
      "(0, 2.0934718, array([[ 0.34,  1.45,  0.79]], dtype=float32))\n",
      "(100, 2.1342099e-05, array([[ 0.01,  1.  ,  1.  ]], dtype=float32))\n",
      "(200, 4.3403496e-08, array([[  4.94e-04,   1.00e+00,   1.00e+00]], dtype=float32))\n",
      "(300, 8.7084118e-11, array([[  2.23e-05,   1.00e+00,   1.00e+00]], dtype=float32))\n",
      "(400, 2.046363e-13, array([[  1.00e-06,   1.00e+00,   1.00e+00]], dtype=float32))\n",
      "(500, 4.8316907e-14, array([[  1.62e-07,   1.00e+00,   1.00e+00]], dtype=float32))\n",
      "(600, 4.8316907e-14, array([[  1.62e-07,   1.00e+00,   1.00e+00]], dtype=float32))\n",
      "(700, 4.8316907e-14, array([[  1.62e-07,   1.00e+00,   1.00e+00]], dtype=float32))\n",
      "(800, 4.8316907e-14, array([[  1.62e-07,   1.00e+00,   1.00e+00]], dtype=float32))\n",
      "(900, 4.8316907e-14, array([[  1.62e-07,   1.00e+00,   1.00e+00]], dtype=float32))\n"
     ]
    }
   ],
   "source": [
    "init = tf.global_variables_initializer()\n",
    "\n",
    "sess = tf.Session()\n",
    "sess.run(init)\n",
    "\n",
    "for _ in range(1000):\n",
    "    sess.run(train)\n",
    "    \n",
    "    if _ % 100 == 0:\n",
    "        print((_, sess.run(cost), sess.run(W)))"
   ]
  }
 ],
 "metadata": {
  "kernelspec": {
   "display_name": "Python 3",
   "language": "python",
   "name": "python3"
  },
  "language_info": {
   "codemirror_mode": {
    "name": "ipython",
    "version": 3
   },
   "file_extension": ".py",
   "mimetype": "text/x-python",
   "name": "python",
   "nbconvert_exporter": "python",
   "pygments_lexer": "ipython3",
   "version": "3.5.1"
  }
 },
 "nbformat": 4,
 "nbformat_minor": 2
}
