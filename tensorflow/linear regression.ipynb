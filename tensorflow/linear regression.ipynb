{
 "cells": [
  {
   "cell_type": "code",
   "execution_count": 1,
   "metadata": {
    "collapsed": true,
    "deletable": true,
    "editable": true
   },
   "outputs": [],
   "source": [
    "import tensorflow as tf\n",
    "import numpy as np\n",
    "import matplotlib.pyplot as plt\n",
    "\n",
    "%matplotlib inline"
   ]
  },
  {
   "cell_type": "code",
   "execution_count": 2,
   "metadata": {
    "collapsed": false,
    "deletable": true,
    "editable": true
   },
   "outputs": [],
   "source": [
    "x = np.arange(10)\n",
    "y = 2 * x"
   ]
  },
  {
   "cell_type": "code",
   "execution_count": 3,
   "metadata": {
    "collapsed": true,
    "deletable": true,
    "editable": true
   },
   "outputs": [],
   "source": [
    "X = tf.placeholder(tf.float32)\n",
    "Y = tf.placeholder(tf.float32)\n",
    "\n",
    "W = tf.Variable(0.0)"
   ]
  },
  {
   "cell_type": "code",
   "execution_count": 4,
   "metadata": {
    "collapsed": false,
    "deletable": true,
    "editable": true
   },
   "outputs": [],
   "source": [
    "H = tf.multiply(W, X)\n",
    "cost = tf.reduce_mean(tf.square(H - Y))"
   ]
  },
  {
   "cell_type": "code",
   "execution_count": 5,
   "metadata": {
    "collapsed": false,
    "deletable": true,
    "editable": true
   },
   "outputs": [],
   "source": [
    "descent = W - tf.multiply(\n",
    "    0.01,\n",
    "    tf.reduce_mean(\n",
    "        tf.multiply(H - Y, X)\n",
    "    )\n",
    ")\n",
    "update = W.assign(descent)"
   ]
  },
  {
   "cell_type": "code",
   "execution_count": 6,
   "metadata": {
    "collapsed": true,
    "deletable": true,
    "editable": true
   },
   "outputs": [],
   "source": [
    "init = tf.global_variables_initializer()"
   ]
  },
  {
   "cell_type": "code",
   "execution_count": 7,
   "metadata": {
    "collapsed": false,
    "deletable": true,
    "editable": true
   },
   "outputs": [
    {
     "name": "stdout",
     "output_type": "stream",
     "text": [
      "(0, 58.279652, 0.56999999)\n",
      "(1, 29.794012, 0.97755003)\n",
      "(2, 15.231442, 1.2689483)\n",
      "(3, 7.7866945, 1.477298)\n",
      "(4, 3.9807541, 1.626268)\n",
      "(5, 2.0350609, 1.7327816)\n",
      "(6, 1.0403746, 1.8089389)\n",
      "(7, 0.53186542, 1.8633913)\n",
      "(8, 0.27190247, 1.9023248)\n",
      "(9, 0.13900363, 1.9301622)\n",
      "(10, 0.071062043, 1.950066)\n",
      "(11, 0.036328737, 1.9642972)\n",
      "(12, 0.018572103, 1.9744725)\n",
      "(13, 0.009494463, 1.9817479)\n",
      "(14, 0.0048538623, 1.9869497)\n",
      "(15, 0.0024814226, 1.990669)\n",
      "(16, 0.001268565, 1.9933283)\n",
      "(17, 0.00064853346, 1.9952297)\n",
      "(18, 0.00033154088, 1.9965893)\n",
      "(19, 0.00016949352, 1.9975613)\n"
     ]
    }
   ],
   "source": [
    "with tf.Session() as sess:\n",
    "    sess.run(init)\n",
    "    \n",
    "    for _ in range(20):\n",
    "        sess.run(update, feed_dict={X: x, Y: y})\n",
    "        print((_, sess.run(cost, feed_dict={X: x, Y: y}), sess.run(W)))"
   ]
  }
 ],
 "metadata": {
  "kernelspec": {
   "display_name": "Python 3",
   "language": "python",
   "name": "python3"
  },
  "language_info": {
   "codemirror_mode": {
    "name": "ipython",
    "version": 3
   },
   "file_extension": ".py",
   "mimetype": "text/x-python",
   "name": "python",
   "nbconvert_exporter": "python",
   "pygments_lexer": "ipython3",
   "version": "3.5.1"
  }
 },
 "nbformat": 4,
 "nbformat_minor": 2
}
