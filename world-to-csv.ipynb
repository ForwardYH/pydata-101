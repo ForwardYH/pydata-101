{
 "cells": [
  {
   "cell_type": "code",
   "execution_count": 1,
   "metadata": {
    "collapsed": true
   },
   "outputs": [],
   "source": [
    "import MySQLdb\n",
    "\n",
    "\n",
    "db = MySQLdb.connect(\n",
    "    \"db.fastcamp.us\",\n",
    "    \"root\",\n",
    "    \"dkstncks\",\n",
    "    \"world\",\n",
    "    charset='utf8',\n",
    ")\n",
    "cursor = db.cursor()"
   ]
  },
  {
   "cell_type": "code",
   "execution_count": 2,
   "metadata": {
    "collapsed": true
   },
   "outputs": [],
   "source": [
    "# World Database 는 크게 3가지 테이블로 구성되어 있다.\n",
    "# 1. Country\n",
    "# 2. City\n",
    "# 3. CountryLanguage"
   ]
  },
  {
   "cell_type": "code",
   "execution_count": 3,
   "metadata": {
    "collapsed": true
   },
   "outputs": [],
   "source": [
    "import pandas as pd"
   ]
  },
  {
   "cell_type": "code",
   "execution_count": 4,
   "metadata": {
    "collapsed": true
   },
   "outputs": [],
   "source": [
    "table_name_list = [\n",
    "    \"Country\",\n",
    "    \"City\",\n",
    "    \"CountryLanguage\",\n",
    "]"
   ]
  },
  {
   "cell_type": "code",
   "execution_count": 5,
   "metadata": {
    "collapsed": true
   },
   "outputs": [],
   "source": [
    "for table_name in table_name_list:\n",
    "    SQL_QUERY = \"\"\"\n",
    "        SELECT *\n",
    "        FROM {table_name}\n",
    "        ;\n",
    "    \"\"\".format(\n",
    "        table_name=table_name,\n",
    "    )\n",
    "    \n",
    "    df = pd.read_sql(SQL_QUERY, db)\n",
    "    df.to_csv(\"world_{table_name}\".format(table_name=table_name))"
   ]
  }
 ],
 "metadata": {
  "kernelspec": {
   "display_name": "Python 3",
   "language": "python",
   "name": "python3"
  },
  "language_info": {
   "codemirror_mode": {
    "name": "ipython",
    "version": 3
   },
   "file_extension": ".py",
   "mimetype": "text/x-python",
   "name": "python",
   "nbconvert_exporter": "python",
   "pygments_lexer": "ipython3",
   "version": "3.5.1"
  }
 },
 "nbformat": 4,
 "nbformat_minor": 0
}
